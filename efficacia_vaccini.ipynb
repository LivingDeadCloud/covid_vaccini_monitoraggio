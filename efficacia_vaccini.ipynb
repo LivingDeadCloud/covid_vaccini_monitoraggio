{
 "cells": [
  {
   "cell_type": "code",
   "execution_count": 9,
   "id": "976ea697-7f92-4dd7-9341-c1ea94ceaa0d",
   "metadata": {},
   "outputs": [],
   "source": [
    "import numpy as np\n",
    "import matplotlib.pyplot as plt\n",
    "import pandas as pd"
   ]
  },
  {
   "cell_type": "markdown",
   "id": "4caa7976-73b0-491a-9d32-43f58898c1e1",
   "metadata": {},
   "source": [
    "### Importa dati divisi per fasce d'età\n",
    "Report dell'8 Settembre, https://www.epicentro.iss.it/coronavirus/bollettino/Bollettino-sorveglianza-integrata-COVID-19_8-settembre-2021.pdf\n",
    "I dati si riferiscono ai 30 giorni precedenti"
   ]
  },
  {
   "cell_type": "code",
   "execution_count": 10,
   "id": "d6a1ef20-6553-4e27-927b-26b147a88235",
   "metadata": {},
   "outputs": [
    {
     "data": {
      "text/html": [
       "<div>\n",
       "<style scoped>\n",
       "    .dataframe tbody tr th:only-of-type {\n",
       "        vertical-align: middle;\n",
       "    }\n",
       "\n",
       "    .dataframe tbody tr th {\n",
       "        vertical-align: top;\n",
       "    }\n",
       "\n",
       "    .dataframe thead th {\n",
       "        text-align: right;\n",
       "    }\n",
       "</style>\n",
       "<table border=\"1\" class=\"dataframe\">\n",
       "  <thead>\n",
       "    <tr style=\"text-align: right;\">\n",
       "      <th></th>\n",
       "      <th>età</th>\n",
       "      <th>non vaccinati</th>\n",
       "      <th>vaccinati completo</th>\n",
       "      <th>casi non vaccinati</th>\n",
       "      <th>casi vaccinati</th>\n",
       "      <th>ospedalizzati non vaccinati</th>\n",
       "      <th>ospedalizzati vaccinati</th>\n",
       "      <th>terapia intensiva non vaccinati</th>\n",
       "      <th>terapia intensiva vaccinati</th>\n",
       "      <th>decessi non vaccinati</th>\n",
       "      <th>decessi vaccinati</th>\n",
       "    </tr>\n",
       "  </thead>\n",
       "  <tbody>\n",
       "    <tr>\n",
       "      <th>0</th>\n",
       "      <td>12-39</td>\n",
       "      <td>7378291</td>\n",
       "      <td>6927425</td>\n",
       "      <td>64612</td>\n",
       "      <td>11719</td>\n",
       "      <td>1711</td>\n",
       "      <td>105</td>\n",
       "      <td>63</td>\n",
       "      <td>3</td>\n",
       "      <td>7</td>\n",
       "      <td>0</td>\n",
       "    </tr>\n",
       "    <tr>\n",
       "      <th>1</th>\n",
       "      <td>40-59</td>\n",
       "      <td>4990358</td>\n",
       "      <td>12034678</td>\n",
       "      <td>29879</td>\n",
       "      <td>15993</td>\n",
       "      <td>2459</td>\n",
       "      <td>258</td>\n",
       "      <td>275</td>\n",
       "      <td>17</td>\n",
       "      <td>85</td>\n",
       "      <td>10</td>\n",
       "    </tr>\n",
       "    <tr>\n",
       "      <th>2</th>\n",
       "      <td>60-79</td>\n",
       "      <td>1847629</td>\n",
       "      <td>11172162</td>\n",
       "      <td>8631</td>\n",
       "      <td>11201</td>\n",
       "      <td>1771</td>\n",
       "      <td>736</td>\n",
       "      <td>331</td>\n",
       "      <td>91</td>\n",
       "      <td>257</td>\n",
       "      <td>62</td>\n",
       "    </tr>\n",
       "    <tr>\n",
       "      <th>3</th>\n",
       "      <td>80+</td>\n",
       "      <td>291252</td>\n",
       "      <td>4157813</td>\n",
       "      <td>1768</td>\n",
       "      <td>4862</td>\n",
       "      <td>638</td>\n",
       "      <td>1019</td>\n",
       "      <td>43</td>\n",
       "      <td>46</td>\n",
       "      <td>222</td>\n",
       "      <td>208</td>\n",
       "    </tr>\n",
       "  </tbody>\n",
       "</table>\n",
       "</div>"
      ],
      "text/plain": [
       "     età  non vaccinati  vaccinati completo  casi non vaccinati  \\\n",
       "0  12-39        7378291             6927425               64612   \n",
       "1  40-59        4990358            12034678               29879   \n",
       "2  60-79        1847629            11172162                8631   \n",
       "3    80+         291252             4157813                1768   \n",
       "\n",
       "   casi vaccinati  ospedalizzati non vaccinati  ospedalizzati vaccinati  \\\n",
       "0           11719                         1711                      105   \n",
       "1           15993                         2459                      258   \n",
       "2           11201                         1771                      736   \n",
       "3            4862                          638                     1019   \n",
       "\n",
       "   terapia intensiva non vaccinati  terapia intensiva vaccinati  \\\n",
       "0                               63                            3   \n",
       "1                              275                           17   \n",
       "2                              331                           91   \n",
       "3                               43                           46   \n",
       "\n",
       "   decessi non vaccinati  decessi vaccinati  \n",
       "0                      7                  0  \n",
       "1                     85                 10  \n",
       "2                    257                 62  \n",
       "3                    222                208  "
      ]
     },
     "execution_count": 10,
     "metadata": {},
     "output_type": "execute_result"
    }
   ],
   "source": [
    "df_età = pd.read_csv('dati/dati_ISS_età_8settembre21.csv', sep=';')\n",
    "\n",
    "df_età"
   ]
  },
  {
   "cell_type": "markdown",
   "id": "7dcd5fb0-6182-4872-9959-ac83cc547822",
   "metadata": {},
   "source": [
    "### Elaborazione dati"
   ]
  },
  {
   "cell_type": "code",
   "execution_count": 11,
   "id": "4355e3cf-d09e-4d21-b315-777334a41609",
   "metadata": {},
   "outputs": [
    {
     "data": {
      "text/html": [
       "<div>\n",
       "<style scoped>\n",
       "    .dataframe tbody tr th:only-of-type {\n",
       "        vertical-align: middle;\n",
       "    }\n",
       "\n",
       "    .dataframe tbody tr th {\n",
       "        vertical-align: top;\n",
       "    }\n",
       "\n",
       "    .dataframe thead th {\n",
       "        text-align: right;\n",
       "    }\n",
       "</style>\n",
       "<table border=\"1\" class=\"dataframe\">\n",
       "  <thead>\n",
       "    <tr style=\"text-align: right;\">\n",
       "      <th></th>\n",
       "      <th>Casi, non vaccinati</th>\n",
       "      <th>Casi, vaccinati</th>\n",
       "      <th>Ospedalizzati, non vaccinati</th>\n",
       "      <th>Ospedalizzati, vaccinati</th>\n",
       "      <th>In terapia intensiva, non vaccinati</th>\n",
       "      <th>In terapia intensiva, vaccinati</th>\n",
       "      <th>Deceduti, non vaccinati</th>\n",
       "      <th>Deceduti, vaccinati</th>\n",
       "    </tr>\n",
       "    <tr>\n",
       "      <th>età</th>\n",
       "      <th></th>\n",
       "      <th></th>\n",
       "      <th></th>\n",
       "      <th></th>\n",
       "      <th></th>\n",
       "      <th></th>\n",
       "      <th></th>\n",
       "      <th></th>\n",
       "    </tr>\n",
       "  </thead>\n",
       "  <tbody>\n",
       "    <tr>\n",
       "      <th>12-39</th>\n",
       "      <td>204.330967</td>\n",
       "      <td>39.472579</td>\n",
       "      <td>5.410919</td>\n",
       "      <td>0.353667</td>\n",
       "      <td>0.199233</td>\n",
       "      <td>0.010105</td>\n",
       "      <td>0.022137</td>\n",
       "      <td>0.000000</td>\n",
       "    </tr>\n",
       "    <tr>\n",
       "      <th>40-59</th>\n",
       "      <td>139.704740</td>\n",
       "      <td>31.007892</td>\n",
       "      <td>11.497505</td>\n",
       "      <td>0.500221</td>\n",
       "      <td>1.285813</td>\n",
       "      <td>0.032960</td>\n",
       "      <td>0.397433</td>\n",
       "      <td>0.019388</td>\n",
       "    </tr>\n",
       "    <tr>\n",
       "      <th>60-79</th>\n",
       "      <td>108.999155</td>\n",
       "      <td>23.393562</td>\n",
       "      <td>22.365601</td>\n",
       "      <td>1.537154</td>\n",
       "      <td>4.180132</td>\n",
       "      <td>0.190056</td>\n",
       "      <td>3.245601</td>\n",
       "      <td>0.129489</td>\n",
       "    </tr>\n",
       "    <tr>\n",
       "      <th>80+</th>\n",
       "      <td>141.641374</td>\n",
       "      <td>27.285178</td>\n",
       "      <td>51.112668</td>\n",
       "      <td>5.718551</td>\n",
       "      <td>3.444898</td>\n",
       "      <td>0.258149</td>\n",
       "      <td>17.785286</td>\n",
       "      <td>1.167280</td>\n",
       "    </tr>\n",
       "  </tbody>\n",
       "</table>\n",
       "</div>"
      ],
      "text/plain": [
       "       Casi, non vaccinati  Casi, vaccinati  Ospedalizzati, non vaccinati  \\\n",
       "età                                                                         \n",
       "12-39           204.330967        39.472579                      5.410919   \n",
       "40-59           139.704740        31.007892                     11.497505   \n",
       "60-79           108.999155        23.393562                     22.365601   \n",
       "80+             141.641374        27.285178                     51.112668   \n",
       "\n",
       "       Ospedalizzati, vaccinati  In terapia intensiva, non vaccinati  \\\n",
       "età                                                                    \n",
       "12-39                  0.353667                             0.199233   \n",
       "40-59                  0.500221                             1.285813   \n",
       "60-79                  1.537154                             4.180132   \n",
       "80+                    5.718551                             3.444898   \n",
       "\n",
       "       In terapia intensiva, vaccinati  Deceduti, non vaccinati  \\\n",
       "età                                                               \n",
       "12-39                         0.010105                 0.022137   \n",
       "40-59                         0.032960                 0.397433   \n",
       "60-79                         0.190056                 3.245601   \n",
       "80+                           0.258149                17.785286   \n",
       "\n",
       "       Deceduti, vaccinati  \n",
       "età                         \n",
       "12-39             0.000000  \n",
       "40-59             0.019388  \n",
       "60-79             0.129489  \n",
       "80+               1.167280  "
      ]
     },
     "execution_count": 11,
     "metadata": {},
     "output_type": "execute_result"
    }
   ],
   "source": [
    "# ricava i tassi, divivendo per la popolazione vaccinati e non vaccinata\n",
    "tassi = (7/30)*10**5*np.transpose([df_età['casi non vaccinati']/df_età['non vaccinati'],\n",
    "         df_età['casi vaccinati']/df_età['vaccinati completo'],                  \n",
    "         df_età['ospedalizzati non vaccinati']/df_età['non vaccinati'],\n",
    "         df_età['ospedalizzati vaccinati']/df_età['vaccinati completo'],\n",
    "         df_età['terapia intensiva non vaccinati']/df_età['non vaccinati'],\n",
    "         df_età['terapia intensiva vaccinati']/df_età['vaccinati completo'],\n",
    "         df_età['decessi non vaccinati']/df_età['non vaccinati'],\n",
    "         df_età['decessi vaccinati']/df_età['vaccinati completo']])\n",
    "\n",
    "\n",
    "df_tassi = pd.DataFrame(tassi)\n",
    "df_tassi.columns = ['Casi, non vaccinati',\n",
    "                    'Casi, vaccinati',\n",
    "                    'Ospedalizzati, non vaccinati', \n",
    "                    'Ospedalizzati, vaccinati',\n",
    "                    'In terapia intensiva, non vaccinati',\n",
    "                    'In terapia intensiva, vaccinati',\n",
    "                    'Deceduti, non vaccinati',\n",
    "                    'Deceduti, vaccinati']\n",
    "\n",
    "df_tassi.index = df_età['età']\n",
    "\n",
    "df_tassi"
   ]
  },
  {
   "cell_type": "markdown",
   "id": "6107d400-0897-4ff9-a91c-84b44c816d9a",
   "metadata": {},
   "source": [
    "## Rappresentazione grafica dei risultati"
   ]
  },
  {
   "cell_type": "code",
   "execution_count": 12,
   "id": "a14755e2-3f04-43de-ab2c-e5223c4847b9",
   "metadata": {},
   "outputs": [],
   "source": [
    "def which_axe(x):\n",
    "    axes[x].set_ylabel('Numeri per 100.000 abitanti')\n",
    "    axes[x].set_xlabel('Fascia d\\'età')\n",
    "    axes[x].legend(['Non vaccinati', 'Vaccinati'])\n",
    "    axes[x].grid()"
   ]
  },
  {
   "cell_type": "markdown",
   "id": "0f5a3195-1b68-4c00-93bc-23febc67f193",
   "metadata": {},
   "source": [
    "### Tassi di contagio"
   ]
  },
  {
   "cell_type": "code",
   "execution_count": 13,
   "id": "f51c5c6e-b63e-4140-a5c3-363479c45647",
   "metadata": {},
   "outputs": [
    {
     "data": {
      "image/png": "[encoded data removed]",
      "text/plain": [
       "<Figure size 576x576 with 4 Axes>"
      ]
     },
     "metadata": {
      "needs_background": "light"
     },
     "output_type": "display_data"
    }
   ],
   "source": [
    "fig, axes2 = plt.subplots(nrows=2, ncols=2, figsize=(8, 8))\n",
    "\n",
    "# unpack all the axes subplots\n",
    "axes = axes2.ravel()\n",
    "\n",
    "df_tassi.iloc[:, [0, 1]].plot(ax=axes[0],kind='bar')\n",
    "axes[0].set_title('Incidenza settimanale dei nuovi casi')\n",
    "which_axe(0)\n",
    "\n",
    "df_tassi.iloc[:, [2, 3]].plot(ax=axes[1], kind='bar')\n",
    "axes[1].set_title('Incidenza settimanale degli ospedalizzati')\n",
    "which_axe(1)\n",
    "\n",
    "df_tassi.iloc[:, [4, 5]].plot(ax=axes[2], kind='bar')\n",
    "axes[2].set_title('Incidenza settimanale dei ricoveri in TI')\n",
    "which_axe(2)\n",
    "\n",
    "df_tassi.iloc[:, [6, 7]].plot(ax=axes[3], kind='bar')\n",
    "axes[3].set_title('Incidenza settimanale dei deceduti')\n",
    "which_axe(3)\n",
    "\n",
    "plt.tight_layout()\n",
    "plt.savefig('risultati/tassi_per_età.png', dpi=300)\n",
    "plt.show()"
   ]
  },
  {
   "cell_type": "markdown",
   "id": "79d7bb64-d6be-4a53-af7d-69a103bcfd81",
   "metadata": {},
   "source": [
    "### Efficacia dei vaccini"
   ]
  },
  {
   "cell_type": "code",
   "execution_count": 14,
   "id": "ccdcc0be-3835-4db1-913d-08f00a242a62",
   "metadata": {},
   "outputs": [],
   "source": [
    "efficacia_contagio = (1 - df_tassi.iloc[:, 1]/df_tassi.iloc[:, 0])*100\n",
    "efficacia_osp = (1 - df_tassi.iloc[:, 3]/df_tassi.iloc[:, 2])*100\n",
    "efficacia_terint = (1 - df_tassi.iloc[:, 5]/df_tassi.iloc[:, 4])*100\n",
    "efficacia_decessi = (1 - df_tassi.iloc[:, 7]/df_tassi.iloc[:, 6])*100"
   ]
  },
  {
   "cell_type": "code",
   "execution_count": 15,
   "id": "e71ef65b-4d24-476c-8e6b-d44a5970ba10",
   "metadata": {},
   "outputs": [],
   "source": [
    "def add_to_plot():\n",
    "    plt.ylim(70, 100)\n",
    "    plt.grid()\n",
    "    plt.xlabel('Fascia d\\'età')\n",
    "    plt.yticks(np.arange(70, 101, 5), ['70%', '75%', '80%', '85%', '90%', '95%', '100%'])"
   ]
  },
  {
   "cell_type": "code",
   "execution_count": 16,
   "id": "84671bbf-50be-4d3f-8b77-c75e21fbf4c9",
   "metadata": {},
   "outputs": [
    {
     "data": {
      "image/png": "[encoded data removed]",
      "text/plain": [
       "<Figure size 648x648 with 4 Axes>"
      ]
     },
     "metadata": {
      "needs_background": "light"
     },
     "output_type": "display_data"
    }
   ],
   "source": [
    "plt.figure(figsize=(9, 9))\n",
    "\n",
    "plt.subplot(2, 2, 1)\n",
    "plt.bar(efficacia_contagio.index, efficacia_contagio, color='blue')\n",
    "plt.title('Efficacia contro il contagio')\n",
    "add_to_plot()\n",
    "\n",
    "plt.subplot(2, 2, 2)\n",
    "plt.bar(efficacia_osp.index, efficacia_osp, color='green')\n",
    "plt.title('Efficacia contro l\\'ospedalizzazione')\n",
    "add_to_plot()\n",
    "\n",
    "plt.subplot(2, 2, 3)\n",
    "plt.bar(efficacia_terint.index, efficacia_terint, color='red')\n",
    "plt.title('Efficacia contro il ricovero in TI')\n",
    "add_to_plot()\n",
    "\n",
    "plt.subplot(2, 2, 4)\n",
    "plt.bar(efficacia_decessi.index, efficacia_decessi, color='gray')\n",
    "plt.title('Efficacia contro il decesso')\n",
    "add_to_plot()\n",
    "\n",
    "plt.tight_layout()\n",
    "plt.savefig('risultati/efficacia_vaccini.png', dpi=300)\n",
    "plt.show()"
   ]
  },
  {
   "cell_type": "code",
   "execution_count": null,
   "id": "4efd5cb7-0634-4cc1-b7f3-d1e6aed23a39",
   "metadata": {},
   "outputs": [],
   "source": []
  }
 ],
 "metadata": {
  "kernelspec": {
   "display_name": "Python 3",
   "language": "python",
   "name": "python3"
  },
  "language_info": {
   "codemirror_mode": {
    "name": "ipython",
    "version": 3
   },
   "file_extension": ".py",
   "mimetype": "text/x-python",
   "name": "python",
   "nbconvert_exporter": "python",
   "pygments_lexer": "ipython3",
   "version": "3.8.8"
  }
 },
 "nbformat": 4,
 "nbformat_minor": 5
}
